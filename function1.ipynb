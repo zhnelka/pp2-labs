{
 "cells": [
  {
   "cell_type": "code",
   "execution_count": null,
   "metadata": {},
   "outputs": [],
   "source": [
    "def grams_to_ounces(grams):\n",
    "    return 28.3495231 * grams\n"
   ]
  },
  {
   "cell_type": "code",
   "execution_count": null,
   "metadata": {},
   "outputs": [],
   "source": [
    "def fahrenheit_to_celsius(fahrenheit):\n",
    "    return (5 / 9) * (fahrenheit - 32)\n"
   ]
  },
  {
   "cell_type": "code",
   "execution_count": null,
   "metadata": {},
   "outputs": [],
   "source": [
    "def solve(numheads, numlegs):\n",
    "    for chickens in range(numheads + 1):\n",
    "        rabbits = numheads - chickens\n",
    "        if (chickens * 2 + rabbits * 4) == numlegs:\n",
    "            return chickens, rabbits\n",
    "    return \"No solution\"\n"
   ]
  },
  {
   "cell_type": "code",
   "execution_count": null,
   "metadata": {},
   "outputs": [],
   "source": [
    "def filter_prime(nums):\n",
    "    def is_prime(n):\n",
    "        if n < 2:\n",
    "            return False\n",
    "        for i in range(2, int(n ** 0.5) + 1):\n",
    "            if n % i == 0:\n",
    "                return False\n",
    "        return True\n",
    "\n",
    "    return [num for num in nums if is_prime(num)]\n"
   ]
  },
  {
   "cell_type": "code",
   "execution_count": null,
   "metadata": {},
   "outputs": [],
   "source": [
    "from itertools import permutations\n",
    "def print_permutations(string):\n",
    "    return [''.join(p) for p in permutations(string)]"
   ]
  },
  {
   "cell_type": "code",
   "execution_count": null,
   "metadata": {},
   "outputs": [],
   "source": [
    "def reverse_words(sentence):\n",
    "    words = sentence.split()\n",
    "    return ' '.join(reversed(words))"
   ]
  },
  {
   "cell_type": "code",
   "execution_count": null,
   "metadata": {},
   "outputs": [],
   "source": [
    "def has_33(nums):\n",
    "    for i in range(len(nums) - 1):\n",
    "        if nums[i] == 3 and nums[i + 1] == 3:\n",
    "            return True\n",
    "    return False\n"
   ]
  },
  {
   "cell_type": "code",
   "execution_count": null,
   "metadata": {},
   "outputs": [],
   "source": [
    "def spy_game(nums):\n",
    "    seq = [0, 0, 7]\n",
    "    for i in range(len(nums) - 2):\n",
    "        if nums[i:i+3] == seq:\n",
    "            return True\n",
    "    return False\n"
   ]
  },
  {
   "cell_type": "code",
   "execution_count": null,
   "metadata": {},
   "outputs": [],
   "source": [
    "import math\n",
    "def sphere_volume(radius):\n",
    "    return (4 / 3) * math.pi * radius**3"
   ]
  },
  {
   "cell_type": "code",
   "execution_count": null,
   "metadata": {},
   "outputs": [],
   "source": [
    "def remove_duplicates(lst):\n",
    "    return [x for i, x in enumerate(lst) if x not in lst[:i]]"
   ]
  },
  {
   "cell_type": "code",
   "execution_count": null,
   "metadata": {},
   "outputs": [],
   "source": [
    "def is_palindrome(word):\n",
    "    word = word.lower().replace(\" \", \"\")\n",
    "    return word == word[::-1]\n"
   ]
  },
  {
   "cell_type": "code",
   "execution_count": null,
   "metadata": {},
   "outputs": [],
   "source": [
    "def histogram(lst):\n",
    "    for i in lst:\n",
    "        print('*' * i)"
   ]
  },
  {
   "cell_type": "code",
   "execution_count": null,
   "metadata": {},
   "outputs": [],
   "source": [
    "import random\n",
    "def guess_the_number():\n",
    "    name = input(\"Hello! What is your name?\\n\")\n",
    "    print(f\"Well, {name}, I am thinking of a number between 1 and 20.\")\n",
    "    number_to_guess = random.randint(1, 20)\n",
    "    guesses_taken = 0\n",
    "    while True:\n",
    "        guess = int(input(\"Take a guess.\\n\"))\n",
    "        guesses_taken += 1\n",
    "        if guess < number_to_guess:\n",
    "            print(\"Your guess is too low.\")\n",
    "        elif guess > number_to_guess:\n",
    "            print(\"Your guess is too high.\")\n",
    "        else:\n",
    "            print(f\"Good job, {name}! You guessed my number in {guesses_taken} guesses!\")\n",
    "            break"
   ]
  }
 ],
 "metadata": {
  "language_info": {
   "name": "python"
  }
 },
 "nbformat": 4,
 "nbformat_minor": 2
}
