{
 "cells": [
  {
   "cell_type": "code",
   "execution_count": null,
   "metadata": {},
   "outputs": [],
   "source": [
    "from functools import reduce\n",
    "\n",
    "def multiply_list(numbers):\n",
    "    return reduce(lambda x, y: x * y, numbers)\n",
    "\n",
    "numbers = [2, 3, 4, 5]\n",
    "print(multiply_list(numbers))  \n"
   ]
  },
  {
   "cell_type": "code",
   "execution_count": null,
   "metadata": {},
   "outputs": [],
   "source": [
    "def count_case(s):\n",
    "    upper = sum(1 for char in s if char.isupper())\n",
    "    lower = sum(1 for char in s if char.islower())\n",
    "    return {\"Uppercase\": upper, \"Lowercase\": lower}\n",
    "\n",
    "text = \"Hello World!\"\n",
    "print(count_case(text))  \n"
   ]
  },
  {
   "cell_type": "code",
   "execution_count": null,
   "metadata": {},
   "outputs": [],
   "source": [
    "def is_palindrome(s):\n",
    "    return s == s[::-1]\n",
    "\n",
    "print(is_palindrome(\"madam\"))  \n",
    "print(is_palindrome(\"hello\"))  \n"
   ]
  },
  {
   "cell_type": "code",
   "execution_count": null,
   "metadata": {},
   "outputs": [],
   "source": [
    "import time\n",
    "import math\n",
    "\n",
    "def delayed_sqrt(number, delay):\n",
    "    time.sleep(delay / 1000)  \n",
    "    result = math.sqrt(number)\n",
    "    print(f\"Square root of {number} after {delay} milliseconds is {result}\")\n",
    "\n",
    "\n",
    "number = 25100\n",
    "delay = 2123\n",
    "delayed_sqrt(number, delay)"
   ]
  },
  {
   "cell_type": "code",
   "execution_count": null,
   "metadata": {},
   "outputs": [],
   "source": [
    "def all_true(t):\n",
    "    return all(t)\n",
    "\n",
    "print(all_true((True, True, True)))  \n",
    "print(all_true((True, False, True)))  \n"
   ]
  }
 ],
 "metadata": {
  "language_info": {
   "name": "python"
  }
 },
 "nbformat": 4,
 "nbformat_minor": 2
}
