{
 "cells": [
  {
   "cell_type": "code",
   "execution_count": 2,
   "metadata": {},
   "outputs": [
    {
     "name": "stdout",
     "output_type": "stream",
     "text": [
      "['file2.txt', 'file.txt', 'filee.txt', '01.py', '.DS_Store', 'bultin-finctions.ipynb', 'generators.ipynb', 'dir.ipynb', 'test.py', '02.ipynb', 'classes.ipynb', 'sample-data.json', 'function1.ipynb', 'lab4.ipynb', 'math.ipynb', 'lab3.ipynb', '01.ipynb', 'lab5.ipynb', 'function2.ipynb', 'test.ipynb', 'data.ipynb']\n",
      "[]\n",
      "['file2.txt', 'file.txt', 'filee.txt', '01.py', '.DS_Store', 'bultin-finctions.ipynb', 'generators.ipynb', 'dir.ipynb', 'test.py', '02.ipynb', 'classes.ipynb', 'sample-data.json', 'function1.ipynb', 'lab4.ipynb', 'math.ipynb', 'lab3.ipynb', '01.ipynb', 'lab5.ipynb', 'function2.ipynb', 'test.ipynb', 'data.ipynb']\n"
     ]
    }
   ],
   "source": [
    "import os\n",
    "from string import ascii_uppercase\n",
    "\n",
    "\n",
    "location1 = r'/Users/mrtva_zhanel/pp2 labs 2025'\n",
    "print([name for name in os.listdir(location1)]) #everything\n",
    "print([name for name in os.listdir(location1) if os.path.isdir(os.path.join(location1, name))]) #only directories\n",
    "print([name for name in os.listdir(location1) if not os.path.isdir(os.path.join(location1, name))]) #only files\n"
   ]
  },
  {
   "cell_type": "code",
   "execution_count": 3,
   "metadata": {},
   "outputs": [
    {
     "name": "stdout",
     "output_type": "stream",
     "text": [
      "Path exists: True\n",
      "Path readable: True\n",
      "Path writable: True\n",
      "Path executable: True\n"
     ]
    }
   ],
   "source": [
    "print('Path exists:', os.access(r'/Users/mrtva_zhanel/pp2 labs 2025', os.F_OK))\n",
    "print('Path readable:', os.access(r'/Users/mrtva_zhanel/pp2 labs 2025', os.R_OK))\n",
    "print('Path writable:', os.access(r'/Users/mrtva_zhanel/pp2 labs 2025', os.W_OK))\n",
    "print('Path executable:', os.access(r'/Users/mrtva_zhanel/pp2 labs 2025', os.X_OK))"
   ]
  },
  {
   "cell_type": "code",
   "execution_count": 4,
   "metadata": {},
   "outputs": [
    {
     "name": "stdout",
     "output_type": "stream",
     "text": [
      "Path does not exist\n"
     ]
    }
   ],
   "source": [
    "path = input('Insert path \\n')\n",
    "path_bool = os.access(path, os.F_OK)\n",
    "if path_bool == False:\n",
    "    print(\"Path does not exist\")\n",
    "elif path_bool == True:\n",
    "    print(\"Directories:\", ', '.join([name for name in os.listdir(path) if os.path.isdir(os.path.join(path, name))]))\n",
    "    print(\"Files:\", ', '.join([name for name in os.listdir(path) if not os.path.isdir(os.path.join(path, name))]))"
   ]
  },
  {
   "cell_type": "code",
   "execution_count": 5,
   "metadata": {},
   "outputs": [
    {
     "name": "stdout",
     "output_type": "stream",
     "text": [
      "Number of lines: 0\n"
     ]
    }
   ],
   "source": [
    "with open(r'/Users/mrtva_zhanel/pp2 labs 2025/file.txt', 'r') as file:\n",
    "    x = len(file.readlines())\n",
    "    print(\"Number of lines:\", x)"
   ]
  },
  {
   "cell_type": "code",
   "execution_count": 9,
   "metadata": {},
   "outputs": [],
   "source": [
    "mylist = ['A', 'B', 'C', 'D']\n",
    "with open(r'/Users/mrtva_zhanel/pp2 labs 2025/file2.txt', 'w') as file:\n",
    "    for i in mylist:\n",
    "        file.write(i + '\\n')\n",
    "file.close()"
   ]
  },
  {
   "cell_type": "code",
   "execution_count": 10,
   "metadata": {},
   "outputs": [],
   "source": [
    "import string\n",
    "\n",
    "def generate_text_files():\n",
    "    for letter in string.ascii_uppercase:\n",
    "        with open(f\"{letter}.txt\", 'w') as file:\n",
    "            file.write(f\"This is the file {letter}.txt\")\n",
    "\n",
    "generate_text_files()"
   ]
  },
  {
   "cell_type": "code",
   "execution_count": 11,
   "metadata": {},
   "outputs": [],
   "source": [
    "with open('file.txt', 'r') as file1, open('filee.txt', 'a') as file2:\n",
    "    for line in file1:\n",
    "        file2.write(line)"
   ]
  },
  {
   "cell_type": "code",
   "execution_count": 12,
   "metadata": {},
   "outputs": [
    {
     "name": "stdout",
     "output_type": "stream",
     "text": [
      "File has been removed\n"
     ]
    }
   ],
   "source": [
    "path = r'/Users/mrtva_zhanel/Downloads/lab6/file.txt'\n",
    "path_bool = os.access(path, os.F_OK)\n",
    "if path_bool == False:\n",
    "    print('Path does not exist')\n",
    "elif path_bool == True:\n",
    "    os.remove(path)\n",
    "    print(\"File has been removed\")"
   ]
  }
 ],
 "metadata": {
  "kernelspec": {
   "display_name": "Python 3",
   "language": "python",
   "name": "python3"
  },
  "language_info": {
   "codemirror_mode": {
    "name": "ipython",
    "version": 3
   },
   "file_extension": ".py",
   "mimetype": "text/x-python",
   "name": "python",
   "nbconvert_exporter": "python",
   "pygments_lexer": "ipython3",
   "version": "3.9.6"
  }
 },
 "nbformat": 4,
 "nbformat_minor": 2
}
