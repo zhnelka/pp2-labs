{
 "cells": [
  {
   "cell_type": "code",
   "execution_count": 1,
   "metadata": {},
   "outputs": [
    {
     "name": "stdout",
     "output_type": "stream",
     "text": [
      "Current Date: 2025-02-21\n",
      "Date 5 days ago: 2025-02-16\n"
     ]
    }
   ],
   "source": [
    "from datetime import datetime, timedelta\n",
    "\n",
    "current_date = datetime.today()\n",
    "\n",
    "new_date = current_date - timedelta(days=5)\n",
    "\n",
    "print(\"Current Date:\", current_date.strftime(\"%Y-%m-%d\"))\n",
    "print(\"Date 5 days ago:\", new_date.strftime(\"%Y-%m-%d\"))\n"
   ]
  },
  {
   "cell_type": "code",
   "execution_count": 2,
   "metadata": {},
   "outputs": [
    {
     "name": "stdout",
     "output_type": "stream",
     "text": [
      "Yesterday: 2025-02-20\n",
      "Today: 2025-02-21\n",
      "Tomorrow: 2025-02-22\n"
     ]
    }
   ],
   "source": [
    "from datetime import datetime, timedelta\n",
    "\n",
    "today = datetime.today()\n",
    "yesterday = today - timedelta(days=1)\n",
    "tomorrow = today + timedelta(days=1)\n",
    "\n",
    "print(\"Yesterday:\", yesterday.strftime(\"%Y-%m-%d\"))\n",
    "print(\"Today:\", today.strftime(\"%Y-%m-%d\"))\n",
    "print(\"Tomorrow:\", tomorrow.strftime(\"%Y-%m-%d\"))\n"
   ]
  },
  {
   "cell_type": "code",
   "execution_count": 3,
   "metadata": {},
   "outputs": [
    {
     "name": "stdout",
     "output_type": "stream",
     "text": [
      "With microseconds: 2025-02-21 11:58:19.223323\n",
      "Without microseconds: 2025-02-21 11:58:19\n"
     ]
    }
   ],
   "source": [
    "from datetime import datetime\n",
    "\n",
    "now = datetime.now()\n",
    "now_no_microseconds = now.replace(microsecond=0)\n",
    "\n",
    "print(\"With microseconds:\", now)\n",
    "print(\"Without microseconds:\", now_no_microseconds)\n"
   ]
  },
  {
   "cell_type": "code",
   "execution_count": 4,
   "metadata": {},
   "outputs": [
    {
     "name": "stdout",
     "output_type": "stream",
     "text": [
      "Difference in seconds: 264600.0\n"
     ]
    }
   ],
   "source": [
    "from datetime import datetime\n",
    "\n",
    "date1 = datetime(2025, 2, 21, 12, 0, 0)\n",
    "date2 = datetime(2025, 2, 18, 10, 30, 0)\n",
    "\n",
    "difference = abs((date1 - date2).total_seconds())\n",
    "\n",
    "print(\"Difference in seconds:\", difference)\n"
   ]
  }
 ],
 "metadata": {
  "kernelspec": {
   "display_name": "Python 3",
   "language": "python",
   "name": "python3"
  },
  "language_info": {
   "codemirror_mode": {
    "name": "ipython",
    "version": 3
   },
   "file_extension": ".py",
   "mimetype": "text/x-python",
   "name": "python",
   "nbconvert_exporter": "python",
   "pygments_lexer": "ipython3",
   "version": "3.9.6"
  }
 },
 "nbformat": 4,
 "nbformat_minor": 2
}
