{
 "cells": [
  {
   "cell_type": "code",
   "execution_count": 1,
   "metadata": {},
   "outputs": [
    {
     "name": "stdout",
     "output_type": "stream",
     "text": [
      "True\n"
     ]
    }
   ],
   "source": [
    "import re\n",
    "\n",
    "def match_a_b(string):\n",
    "    return re.fullmatch(r'a*b*', string) is not None\n",
    "\n",
    "print(match_a_b(\"abbb\"))  "
   ]
  },
  {
   "cell_type": "code",
   "execution_count": 2,
   "metadata": {},
   "outputs": [
    {
     "name": "stdout",
     "output_type": "stream",
     "text": [
      "True\n"
     ]
    }
   ],
   "source": [
    "import re\n",
    "\n",
    "def match_a_b_limited(string):\n",
    "    return re.fullmatch(r'ab{2,3}', string) is not None\n",
    "\n",
    "print(match_a_b_limited(\"abb\"))  "
   ]
  },
  {
   "cell_type": "code",
   "execution_count": null,
   "metadata": {},
   "outputs": [],
   "source": [
    "import re\n",
    "\n",
    "def find_lowercase_with_underscore(string):\n",
    "    return re.findall(r'\\b[a-z]+_[a-z]+\\b', string)\n",
    "\n",
    "print(find_lowercase_with_underscore(\"this_is_a_test example\"))  \n"
   ]
  },
  {
   "cell_type": "code",
   "execution_count": null,
   "metadata": {},
   "outputs": [],
   "source": [
    "import re\n",
    "\n",
    "def find_uppercase_followed_by_lowercase(string):\n",
    "    return re.findall(r'\\b[A-Z][a-z]+', string)\n",
    "\n",
    "print(find_uppercase_followed_by_lowercase(\"Hello World Test\"))  \n"
   ]
  },
  {
   "cell_type": "code",
   "execution_count": null,
   "metadata": {},
   "outputs": [],
   "source": [
    "import re\n",
    "\n",
    "def match_a_anything_b(string):\n",
    "    return re.fullmatch(r'a.*b', string) is not None\n",
    "\n",
    "print(match_a_anything_b(\"axb\"))  "
   ]
  },
  {
   "cell_type": "code",
   "execution_count": null,
   "metadata": {},
   "outputs": [],
   "source": [
    "import re\n",
    "\n",
    "def replace_special_chars(string):\n",
    "    return re.sub(r'[ ,.]', ':', string)\n",
    "\n",
    "print(replace_special_chars(\"Hello, world. Python is fun\"))  \n"
   ]
  },
  {
   "cell_type": "code",
   "execution_count": null,
   "metadata": {},
   "outputs": [],
   "source": [
    "import re\n",
    "\n",
    "def snake_to_camel(string):\n",
    "    return ''.join(word.capitalize() if i > 0 else word for i, word in enumerate(string.split('_')))\n",
    "\n",
    "print(snake_to_camel(\"this_is_snake_case\"))  \n"
   ]
  },
  {
   "cell_type": "code",
   "execution_count": null,
   "metadata": {},
   "outputs": [],
   "source": [
    "import re\n",
    "\n",
    "def split_at_uppercase(string):\n",
    "    return re.split(r'(?=[A-Z])', string)\n",
    "\n",
    "print(split_at_uppercase(\"SplitAtUpperCase\"))  \n"
   ]
  },
  {
   "cell_type": "code",
   "execution_count": null,
   "metadata": {},
   "outputs": [],
   "source": [
    "import re\n",
    "\n",
    "def insert_spaces_before_capitals(string):\n",
    "    return re.sub(r'(?<!^)(?=[A-Z])', ' ', string)\n",
    "\n",
    "print(insert_spaces_before_capitals(\"InsertSpacesBeforeCapitals\"))  \n"
   ]
  },
  {
   "cell_type": "code",
   "execution_count": null,
   "metadata": {},
   "outputs": [],
   "source": [
    "\n",
    "import re\n",
    "\n",
    "def camel_to_snake(string):\n",
    "    return re.sub(r'(?<!^)(?=[A-Z])', '_', string).lower()\n",
    "\n",
    "print(camel_to_snake(\"CamelCaseString\"))  \n"
   ]
  }
 ],
 "metadata": {
  "kernelspec": {
   "display_name": "Python 3",
   "language": "python",
   "name": "python3"
  },
  "language_info": {
   "codemirror_mode": {
    "name": "ipython",
    "version": 3
   },
   "file_extension": ".py",
   "mimetype": "text/x-python",
   "name": "python",
   "nbconvert_exporter": "python",
   "pygments_lexer": "ipython3",
   "version": "3.9.6"
  }
 },
 "nbformat": 4,
 "nbformat_minor": 2
}
